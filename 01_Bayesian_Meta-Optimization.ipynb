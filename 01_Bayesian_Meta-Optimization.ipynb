{
 "cells": [
  {
   "cell_type": "markdown",
   "metadata": {},
   "source": [
    "## Bayesian Meta-Optimization\n",
    "\n",
    "by [Magnus Erik Hvass Pedersen](http://www.hvass-labs.org/)\n",
    "/ [GitHub](https://github.com/Hvass-Labs/MetaOps) / [Videos on YouTube](https://www.youtube.com/playlist?list=PL9Hr9sNUjfsl1877BS8m3yt8t_wq2IWji)"
   ]
  },
  {
   "cell_type": "markdown",
   "metadata": {},
   "source": [
    "## Introduction\n",
    "\n",
    "Heuristic optimizers such as Genetic Algorithms (GA), Particle Swarm Optimization (PSO) and Differential Evolution (DE) all have a number of parameters that may greatly influence their performance and ability to optimize any given problem. Setting these parameters is somewhat of a *black art* because the inner workings of these optimizers are still very poorly understood. Often the best parameters are counter-intuitive and a choice of parameters that is good for one problem may be almost useless for another problem.\n",
    "\n",
    "Here we present a new method for automatic tuning of the parameters of a heuristic optimizer. This is often called [Meta-Optimization](https://en.wikipedia.org/wiki/Meta-optimization) which is an idea that is closely related to [Hyper-Parameter Optimization](https://en.wikipedia.org/wiki/Hyperparameter_optimization). The method presented here is quite sophisticated and would take considerable effort to implement from scratch. Fortunately we can build the entire system very quickly with just a few lines of source-code by using two existing Python packages."
   ]
  },
  {
   "cell_type": "markdown",
   "metadata": {},
   "source": [
    "## Flowchart\n",
    "\n",
    "We use a so-called [Gaussian Process](https://en.wikipedia.org/wiki/Gaussian_process) to approximate how different parameters affect the performance of the heuristic optimizer on a benchmark problem. We then use a form of so-called [Bayesian Optimization](https://en.wikipedia.org/wiki/Bayesian_optimization) to find the set of parameters that most likely improve upon the optimizer's performance. These parameters are then tried and the result is used to improve the accuracy of the Gaussian Process. This is repeated until a good set of parameters has been found for the optimizer."
   ]
  },
  {
   "cell_type": "markdown",
   "metadata": {},
   "source": [
    "![Flowchart](images/01_flowchart_bayesian_optimization.png)"
   ]
  },
  {
   "cell_type": "markdown",
   "metadata": {},
   "source": [
    "## Imports"
   ]
  },
  {
   "cell_type": "code",
   "execution_count": 1,
   "metadata": {},
   "outputs": [
    {
     "name": "stderr",
     "output_type": "stream",
     "text": [
      "/home/magnus/anaconda3/envs/metaops/lib/python3.6/site-packages/sklearn/ensemble/weight_boosting.py:29: DeprecationWarning: numpy.core.umath_tests is an internal NumPy module and should not be imported. It will be removed in a future NumPy release.\n",
      "  from numpy.core.umath_tests import inner1d\n"
     ]
    }
   ],
   "source": [
    "# Normal packages.\n",
    "import numpy as np\n",
    "\n",
    "# Heuristic optimizers such as DE and PSO.\n",
    "# This is actually implemented in C++ so it should run very fast.\n",
    "import pygmo as pg\n",
    "\n",
    "# Bayesian optimization.\n",
    "import skopt\n",
    "from skopt import gp_minimize\n",
    "from skopt.space import Real, Integer\n",
    "from skopt.utils import use_named_args\n",
    "from skopt.plots import plot_convergence, plot_objective"
   ]
  },
  {
   "cell_type": "code",
   "execution_count": 2,
   "metadata": {},
   "outputs": [
    {
     "data": {
      "text/plain": [
       "'2.8'"
      ]
     },
     "execution_count": 2,
     "metadata": {},
     "output_type": "execute_result"
    }
   ],
   "source": [
    "pg.__version__"
   ]
  },
  {
   "cell_type": "code",
   "execution_count": 3,
   "metadata": {},
   "outputs": [
    {
     "data": {
      "text/plain": [
       "'0.5.2'"
      ]
     },
     "execution_count": 3,
     "metadata": {},
     "output_type": "execute_result"
    }
   ],
   "source": [
    "skopt.__version__"
   ]
  },
  {
   "cell_type": "markdown",
   "metadata": {},
   "source": [
    "## Problem\n",
    "\n",
    "In this example, the problem that we ultimately want to optimize is the [Rosenbrock](https://en.wikipedia.org/wiki/Rosenbrock_function) benchmark problem in 100 dimensions. You could replace this with your own problem, see the [pygmo manual](https://esa.github.io/pagmo2/docs/python/tutorials/python_tut.html) for instructions."
   ]
  },
  {
   "cell_type": "code",
   "execution_count": 4,
   "metadata": {},
   "outputs": [],
   "source": [
    "# Create an instance of the problem we want to optimize.\n",
    "problem = pg.problem(pg.rosenbrock(dim=100))"
   ]
  },
  {
   "cell_type": "code",
   "execution_count": 5,
   "metadata": {},
   "outputs": [],
   "source": [
    "# Initialize the best-found solution and associated fitness.\n",
    "# This will be updated after each optimization run.\n",
    "best_x = None\n",
    "best_fitness = float('inf')"
   ]
  },
  {
   "cell_type": "code",
   "execution_count": 6,
   "metadata": {},
   "outputs": [],
   "source": [
    "# Max number of problem evaluations allowed in a single\n",
    "# optimization run.\n",
    "num_fitness_evals = 100000"
   ]
  },
  {
   "cell_type": "code",
   "execution_count": 7,
   "metadata": {},
   "outputs": [],
   "source": [
    "# Number of optimization runs to perform for each new choice\n",
    "# of parameters for the optimizer. This should not be too low\n",
    "# because the optimizer is stochastic. Even though the Bayesian\n",
    "# Optimizer can handle this, it seems to be better to average\n",
    "# the performance over several runs. It should also not be too high.\n",
    "num_runs = 20"
   ]
  },
  {
   "cell_type": "markdown",
   "metadata": {},
   "source": [
    "## Optimizer Parameters\n",
    "\n",
    "In this example, we will use [Differential Evolution (DE)](https://en.wikipedia.org/wiki/Differential_evolution) as the heuristic optimizer whose parameters we want to tune. We first need to setup the search-space dimensions for the parameters."
   ]
  },
  {
   "cell_type": "code",
   "execution_count": 8,
   "metadata": {},
   "outputs": [],
   "source": [
    "# Parameter-dimension for population size.\n",
    "dim_pop_size = Integer(name=\"pop_size\", low=5, high=200)\n",
    "\n",
    "# Parameter-dimension for F (differential weight).\n",
    "dim_F = Real(name=\"F\", low=0.0, high=1.0)\n",
    "\n",
    "# Parameter-dimension for CR (crossover probability).\n",
    "dim_CR = Real(name=\"CR\", low=0.0, high=1.0)\n",
    "\n",
    "# Parameter-dimension for DE optimizer variant.\n",
    "dim_variant = Integer(name=\"variant\", low=1, high=10)"
   ]
  },
  {
   "cell_type": "code",
   "execution_count": 9,
   "metadata": {},
   "outputs": [],
   "source": [
    "# List of all parameter-dimensions.\n",
    "dimensions  = [dim_pop_size, dim_F, dim_CR, dim_variant]"
   ]
  },
  {
   "cell_type": "code",
   "execution_count": 10,
   "metadata": {},
   "outputs": [],
   "source": [
    "# Names for the parameters.\n",
    "# This is needed in the plotting functions because the API of\n",
    "# scikit-optimize is poorly designed in places.\n",
    "dimension_names = [\"pop_size\", \"F\", \"CR\", \"variant\"]"
   ]
  },
  {
   "cell_type": "code",
   "execution_count": 11,
   "metadata": {},
   "outputs": [],
   "source": [
    "# A default choice of parameters.\n",
    "default_parameters = [100, 0.8, 0.9, 2]"
   ]
  },
  {
   "cell_type": "code",
   "execution_count": 12,
   "metadata": {},
   "outputs": [],
   "source": [
    "# Names of the optimizer variants used for printing.\n",
    "variant_names = \\\n",
    "{\n",
    "     1: \"best/1/exp\",\n",
    "     2: \"rand/1/exp\",\n",
    "     3: \"rand-to-best/1/exp\",\n",
    "     4: \"best/2/exp\",\n",
    "     5: \"rand/2/exp\",\n",
    "     6: \"best/1/bin\",\n",
    "     7: \"rand/1/bin\",\n",
    "     8: \"rand-to-best/1/bin\",\n",
    "     9: \"best/2/bin\",\n",
    "     10: \"rand/2/bin\"    \n",
    "}"
   ]
  },
  {
   "cell_type": "markdown",
   "metadata": {},
   "source": [
    "## Meta-Fitness\n",
    "\n",
    "This is the so-called Meta-Fitness function that takes a set of parameters for the heuristic optimizer and evaluates their performance on the benchmark problem."
   ]
  },
  {
   "cell_type": "code",
   "execution_count": 13,
   "metadata": {},
   "outputs": [],
   "source": [
    "@use_named_args(dimensions=dimensions)\n",
    "def meta_fitness(pop_size, CR, F, variant):\n",
    "    \"\"\"\n",
    "    Meta-fitness for evaluating the performance of the\n",
    "    optimizer on one or more problems.\n",
    "\n",
    "    :param pop_size: Population size.\n",
    "    :param CR: Control-parameter CR (crossover probability).\n",
    "    :param F: Control-parameter F (differential weight).\n",
    "    :param variant: DE variant, integer between 1 and 10.\n",
    "    :return: Float to be minimized.\n",
    "    \"\"\"\n",
    "\n",
    "    # Type-cast from int64 to int because pygmo requires that.\n",
    "    pop_size = int(pop_size)\n",
    "    variant = int(variant)\n",
    "\n",
    "    # Print parameters.\n",
    "    print(\"pop_size:\", pop_size)\n",
    "    print(\"CR: {0:.2f}\".format(CR))\n",
    "    print(\"F: {0:.2f}\".format(F))\n",
    "    print(\"variant: {0} ({1})\".format(variant,\n",
    "                                      variant_names[variant]))\n",
    "    \n",
    "    # Number of iterations for the optimizer's population.\n",
    "    # This ensures that we perform the same number of\n",
    "    # evaluations of the problem's fitness function\n",
    "    # regardless of the population-size.\n",
    "    num_generations = num_fitness_evals // pop_size\n",
    "\n",
    "    def _run():\n",
    "        \"\"\"\n",
    "        Helper-function for performing a single optimization run.\n",
    "        \"\"\"\n",
    "\n",
    "        # Create a new instance of the optimizer using\n",
    "        # the given parameters.\n",
    "        uda = pg.de(gen=num_generations, CR=CR, F=F, variant=variant)\n",
    "        optimizer = pg.algorithm(uda=uda)\n",
    "\n",
    "        # Create a population of agents for the optimizer.\n",
    "        pop = pg.population(problem, size=pop_size)\n",
    "\n",
    "        # Evolve the optimizer's population.\n",
    "        pop = optimizer.evolve(pop)\n",
    "        \n",
    "        # Best fitness found in this optimization run.\n",
    "        fitness = pop.champion_f[0]\n",
    "        \n",
    "        # Update the global variables for best-found solution.\n",
    "        global best_fitness, best_x\n",
    "        if fitness < best_fitness:\n",
    "            best_fitness = fitness\n",
    "            best_x = np.copy(pop.champion_x)\n",
    "        \n",
    "        return fitness\n",
    "    \n",
    "    # Perform a number of optimization runs and get a list\n",
    "    # of the best fitness-values found in those runs.\n",
    "    fitnesses = np.array([_run() for i in range(num_runs)])\n",
    "\n",
    "    # The meta-fitness is the mean of those fitness-values.\n",
    "    meta_fitness = fitnesses.mean()\n",
    "    \n",
    "    # Print the meta-fitness.\n",
    "    print(\"meta_fitness: {0:.2e}\".format(meta_fitness))\n",
    "    print()\n",
    "    \n",
    "    return meta_fitness"
   ]
  },
  {
   "cell_type": "code",
   "execution_count": 14,
   "metadata": {},
   "outputs": [
    {
     "name": "stdout",
     "output_type": "stream",
     "text": [
      "pop_size: 100\n",
      "CR: 0.90\n",
      "F: 0.80\n",
      "variant: 2 (rand/1/exp)\n",
      "meta_fitness: 4.87e+03\n",
      "\n"
     ]
    },
    {
     "data": {
      "text/plain": [
       "4868.149167824088"
      ]
     },
     "execution_count": 14,
     "metadata": {},
     "output_type": "execute_result"
    }
   ],
   "source": [
    "# Test the function on the default parameters.\n",
    "meta_fitness(default_parameters)"
   ]
  },
  {
   "cell_type": "markdown",
   "metadata": {},
   "source": [
    "## Meta-Optimization\n",
    "\n",
    "Now we can run the Meta-Optimization to find the best parameters for the heuristic optimizer, as well as the best solution for the actual problem we are interested in solving."
   ]
  },
  {
   "cell_type": "code",
   "execution_count": 15,
   "metadata": {},
   "outputs": [
    {
     "name": "stdout",
     "output_type": "stream",
     "text": [
      "pop_size: 100\n",
      "CR: 0.90\n",
      "F: 0.80\n",
      "variant: 2 (rand/1/exp)\n",
      "meta_fitness: 4.66e+03\n",
      "\n",
      "pop_size: 196\n",
      "CR: 0.24\n",
      "F: 0.22\n",
      "variant: 9 (best/2/bin)\n",
      "meta_fitness: 4.71e+03\n",
      "\n",
      "pop_size: 37\n",
      "CR: 0.69\n",
      "F: 0.41\n",
      "variant: 3 (rand-to-best/1/exp)\n",
      "meta_fitness: 8.88e+01\n",
      "\n",
      "pop_size: 98\n",
      "CR: 0.27\n",
      "F: 0.20\n",
      "variant: 7 (rand/1/bin)\n",
      "meta_fitness: 1.89e+02\n",
      "\n",
      "pop_size: 46\n",
      "CR: 0.91\n",
      "F: 0.24\n",
      "variant: 6 (best/1/bin)\n",
      "meta_fitness: 2.71e+06\n",
      "\n",
      "pop_size: 156\n",
      "CR: 0.55\n",
      "F: 0.10\n",
      "variant: 5 (rand/2/exp)\n",
      "meta_fitness: 6.84e+02\n",
      "\n",
      "pop_size: 17\n",
      "CR: 0.50\n",
      "F: 0.85\n",
      "variant: 4 (best/2/exp)\n",
      "meta_fitness: 1.01e+02\n",
      "\n",
      "pop_size: 87\n",
      "CR: 0.87\n",
      "F: 0.43\n",
      "variant: 7 (rand/1/bin)\n",
      "meta_fitness: 2.86e+02\n",
      "\n",
      "pop_size: 34\n",
      "CR: 0.06\n",
      "F: 0.90\n",
      "variant: 4 (best/2/exp)\n",
      "meta_fitness: 4.22e+02\n",
      "\n",
      "pop_size: 145\n",
      "CR: 0.00\n",
      "F: 0.56\n",
      "variant: 1 (best/1/exp)\n",
      "meta_fitness: 4.64e+03\n",
      "\n",
      "pop_size: 123\n",
      "CR: 0.54\n",
      "F: 0.34\n",
      "variant: 6 (best/1/bin)\n",
      "meta_fitness: 2.39e+05\n",
      "\n",
      "pop_size: 11\n",
      "CR: 0.76\n",
      "F: 0.04\n",
      "variant: 5 (rand/2/exp)\n",
      "meta_fitness: 1.69e+05\n",
      "\n",
      "pop_size: 135\n",
      "CR: 0.35\n",
      "F: 0.97\n",
      "variant: 1 (best/1/exp)\n",
      "meta_fitness: 4.99e+03\n",
      "\n",
      "pop_size: 10\n",
      "CR: 0.00\n",
      "F: 0.69\n",
      "variant: 3 (rand-to-best/1/exp)\n",
      "meta_fitness: 2.31e+01\n",
      "\n",
      "pop_size: 35\n",
      "CR: 0.71\n",
      "F: 0.63\n",
      "variant: 4 (best/2/exp)\n",
      "meta_fitness: 9.44e+01\n",
      "\n",
      "pop_size: 174\n",
      "CR: 0.05\n",
      "F: 0.61\n",
      "variant: 2 (rand/1/exp)\n",
      "meta_fitness: 1.29e+04\n",
      "\n",
      "pop_size: 64\n",
      "CR: 0.63\n",
      "F: 0.28\n",
      "variant: 4 (best/2/exp)\n",
      "meta_fitness: 1.15e+02\n",
      "\n",
      "pop_size: 75\n",
      "CR: 0.81\n",
      "F: 0.03\n",
      "variant: 10 (rand/2/bin)\n",
      "meta_fitness: 1.41e+05\n",
      "\n",
      "pop_size: 188\n",
      "CR: 0.82\n",
      "F: 0.21\n",
      "variant: 2 (rand/1/exp)\n",
      "meta_fitness: 2.53e+02\n",
      "\n",
      "pop_size: 79\n",
      "CR: 0.51\n",
      "F: 0.05\n",
      "variant: 7 (rand/1/bin)\n",
      "meta_fitness: 6.51e+03\n",
      "\n",
      "pop_size: 25\n",
      "CR: 0.70\n",
      "F: 0.85\n",
      "variant: 9 (best/2/bin)\n",
      "meta_fitness: 1.65e+06\n",
      "\n",
      "pop_size: 150\n",
      "CR: 0.53\n",
      "F: 0.11\n",
      "variant: 2 (rand/1/exp)\n",
      "meta_fitness: 6.72e+02\n",
      "\n",
      "pop_size: 182\n",
      "CR: 0.93\n",
      "F: 0.68\n",
      "variant: 7 (rand/1/bin)\n",
      "meta_fitness: 1.01e+06\n",
      "\n",
      "pop_size: 153\n",
      "CR: 0.44\n",
      "F: 0.41\n",
      "variant: 4 (best/2/exp)\n",
      "meta_fitness: 1.53e+03\n",
      "\n",
      "pop_size: 183\n",
      "CR: 0.17\n",
      "F: 0.55\n",
      "variant: 6 (best/1/bin)\n",
      "meta_fitness: 4.77e+02\n",
      "\n",
      "pop_size: 128\n",
      "CR: 0.72\n",
      "F: 0.67\n",
      "variant: 10 (rand/2/bin)\n",
      "meta_fitness: 2.32e+06\n",
      "\n",
      "pop_size: 118\n",
      "CR: 0.39\n",
      "F: 0.17\n",
      "variant: 5 (rand/2/exp)\n",
      "meta_fitness: 6.48e+02\n",
      "\n",
      "pop_size: 196\n",
      "CR: 0.96\n",
      "F: 0.59\n",
      "variant: 1 (best/1/exp)\n",
      "meta_fitness: 1.69e+02\n",
      "\n",
      "pop_size: 88\n",
      "CR: 0.70\n",
      "F: 0.70\n",
      "variant: 3 (rand-to-best/1/exp)\n",
      "meta_fitness: 1.22e+02\n",
      "\n",
      "pop_size: 168\n",
      "CR: 0.98\n",
      "F: 0.38\n",
      "variant: 1 (best/1/exp)\n",
      "meta_fitness: 4.07e+04\n",
      "\n",
      "pop_size: 184\n",
      "CR: 0.29\n",
      "F: 0.18\n",
      "variant: 9 (best/2/bin)\n",
      "meta_fitness: 6.55e+04\n",
      "\n",
      "pop_size: 193\n",
      "CR: 0.78\n",
      "F: 0.38\n",
      "variant: 1 (best/1/exp)\n",
      "meta_fitness: 2.84e+02\n",
      "\n",
      "pop_size: 59\n",
      "CR: 0.54\n",
      "F: 0.94\n",
      "variant: 9 (best/2/bin)\n",
      "meta_fitness: 2.12e+06\n",
      "\n",
      "pop_size: 150\n",
      "CR: 0.63\n",
      "F: 0.15\n",
      "variant: 6 (best/1/bin)\n",
      "meta_fitness: 1.54e+06\n",
      "\n",
      "pop_size: 191\n",
      "CR: 0.46\n",
      "F: 0.95\n",
      "variant: 10 (rand/2/bin)\n",
      "meta_fitness: 2.26e+06\n",
      "\n",
      "pop_size: 20\n",
      "CR: 0.52\n",
      "F: 0.16\n",
      "variant: 6 (best/1/bin)\n",
      "meta_fitness: 2.37e+06\n",
      "\n",
      "pop_size: 154\n",
      "CR: 0.65\n",
      "F: 0.54\n",
      "variant: 2 (rand/1/exp)\n",
      "meta_fitness: 1.45e+03\n",
      "\n",
      "pop_size: 38\n",
      "CR: 0.65\n",
      "F: 0.41\n",
      "variant: 5 (rand/2/exp)\n",
      "meta_fitness: 9.46e+01\n",
      "\n",
      "pop_size: 24\n",
      "CR: 0.01\n",
      "F: 0.72\n",
      "variant: 7 (rand/1/bin)\n",
      "meta_fitness: 3.33e+02\n",
      "\n",
      "pop_size: 148\n",
      "CR: 0.83\n",
      "F: 0.60\n",
      "variant: 4 (best/2/exp)\n",
      "meta_fitness: 6.31e+03\n",
      "\n",
      "pop_size: 46\n",
      "CR: 0.21\n",
      "F: 0.76\n",
      "variant: 5 (rand/2/exp)\n",
      "meta_fitness: 4.84e+02\n",
      "\n",
      "pop_size: 101\n",
      "CR: 0.29\n",
      "F: 0.45\n",
      "variant: 2 (rand/1/exp)\n",
      "meta_fitness: 7.66e+02\n",
      "\n",
      "pop_size: 145\n",
      "CR: 0.22\n",
      "F: 0.65\n",
      "variant: 3 (rand-to-best/1/exp)\n",
      "meta_fitness: 3.19e+03\n",
      "\n",
      "pop_size: 172\n",
      "CR: 0.15\n",
      "F: 0.05\n",
      "variant: 8 (rand-to-best/1/bin)\n",
      "meta_fitness: 5.24e+04\n",
      "\n",
      "pop_size: 62\n",
      "CR: 0.79\n",
      "F: 0.47\n",
      "variant: 9 (best/2/bin)\n",
      "meta_fitness: 2.24e+02\n",
      "\n",
      "pop_size: 7\n",
      "CR: 0.28\n",
      "F: 0.78\n",
      "variant: 3 (rand-to-best/1/exp)\n",
      "meta_fitness: 1.48e+02\n",
      "\n",
      "pop_size: 15\n",
      "CR: 0.67\n",
      "F: 0.72\n",
      "variant: 4 (best/2/exp)\n",
      "meta_fitness: 9.18e+01\n",
      "\n",
      "pop_size: 194\n",
      "CR: 0.69\n",
      "F: 0.91\n",
      "variant: 2 (rand/1/exp)\n",
      "meta_fitness: 2.73e+04\n",
      "\n",
      "pop_size: 8\n",
      "CR: 0.11\n",
      "F: 0.93\n",
      "variant: 1 (best/1/exp)\n",
      "meta_fitness: 1.31e+02\n",
      "\n",
      "pop_size: 31\n",
      "CR: 0.30\n",
      "F: 0.98\n",
      "variant: 7 (rand/1/bin)\n",
      "meta_fitness: 4.68e+05\n",
      "\n",
      "CPU times: user 3min 9s, sys: 1min 1s, total: 4min 11s\n",
      "Wall time: 2min 51s\n"
     ]
    }
   ],
   "source": [
    "%%time\n",
    "search_result = gp_minimize(func=meta_fitness,\n",
    "                            dimensions=dimensions,\n",
    "                            n_calls=50,\n",
    "                            acq_func='EI', # Expected Improvement.\n",
    "                            x0=default_parameters)"
   ]
  },
  {
   "cell_type": "markdown",
   "metadata": {},
   "source": [
    "## Results\n",
    "\n",
    "We can now show several results of the Meta-Optimization."
   ]
  },
  {
   "cell_type": "code",
   "execution_count": 16,
   "metadata": {
    "scrolled": true
   },
   "outputs": [
    {
     "data": {
      "text/plain": [
       "0.7157490455691291"
      ]
     },
     "execution_count": 16,
     "metadata": {},
     "output_type": "execute_result"
    }
   ],
   "source": [
    "# This is the best fitness value for the actual problem we\n",
    "# were trying to optimize, in this case the Rosenbrock problem.\n",
    "best_fitness"
   ]
  },
  {
   "cell_type": "code",
   "execution_count": 17,
   "metadata": {},
   "outputs": [
    {
     "data": {
      "text/plain": [
       "array([0.9939679 , 0.99406711, 0.99407582, 0.99115199, 0.99275279,\n",
       "       0.9912751 , 0.99081977, 0.99145648, 0.99210012, 0.99319021,\n",
       "       0.99160839, 0.99397586, 0.99511176, 0.99382332, 0.99446491,\n",
       "       0.993103  , 0.9949504 , 0.99569109, 0.99428724, 0.99295317,\n",
       "       0.99407859, 0.99491388, 0.99511708, 0.99250253, 0.9921781 ,\n",
       "       0.99014079, 0.99293716, 0.99278222, 0.99522344, 0.99547432,\n",
       "       0.99691571, 0.99738423, 0.99694656, 0.99655378, 0.99716768,\n",
       "       0.99667813, 0.99742076, 0.99741898, 0.99604799, 0.99500783,\n",
       "       0.99707729, 0.99878386, 0.99983031, 1.00036703, 1.00026111,\n",
       "       1.00014392, 1.00009761, 0.99933234, 0.99840288, 0.99654709,\n",
       "       0.99657004, 0.99697644, 0.99735727, 0.99708081, 0.99659092,\n",
       "       0.99536468, 0.99713337, 0.99840613, 0.99804402, 0.99764227,\n",
       "       0.99572776, 0.99097023, 0.99213882, 0.98989369, 0.98783372,\n",
       "       0.99139423, 0.99012756, 0.98532272, 0.97923349, 0.9813734 ,\n",
       "       0.97491246, 0.9824034 , 0.99182786, 0.98992701, 0.98820122,\n",
       "       0.99214692, 0.99447964, 0.99388925, 0.99270652, 0.99423588,\n",
       "       0.99497001, 0.99313587, 0.99477533, 0.99549817, 0.99423582,\n",
       "       0.99499282, 0.99677415, 0.99637626, 0.99686555, 0.99833114,\n",
       "       0.99968132, 1.00051484, 1.00348209, 1.00922332, 1.01926109,\n",
       "       1.03742559, 1.07388717, 1.14704759, 1.31854344, 1.74724882])"
      ]
     },
     "execution_count": 17,
     "metadata": {},
     "output_type": "execute_result"
    }
   ],
   "source": [
    "# Best solution for the Rosenbrock problem.\n",
    "best_x"
   ]
  },
  {
   "cell_type": "code",
   "execution_count": 18,
   "metadata": {},
   "outputs": [
    {
     "data": {
      "text/plain": [
       "[10, 0.6924273767128258, 0.004773916775181576, 3]"
      ]
     },
     "execution_count": 18,
     "metadata": {},
     "output_type": "execute_result"
    }
   ],
   "source": [
    "# Best parameters found for the heuristic optimizer.\n",
    "# These are useful if you want to run the optimizer again\n",
    "# on similar problems, without needing to tune it again.\n",
    "# You can also try and run the optimizer e.g. 100 times\n",
    "# using these parameters to see if you can improve upon\n",
    "# best_x and best_fitness for the actual problem.\n",
    "best_parameters = search_result.x\n",
    "best_parameters"
   ]
  },
  {
   "cell_type": "code",
   "execution_count": 19,
   "metadata": {},
   "outputs": [
    {
     "name": "stdout",
     "output_type": "stream",
     "text": [
      "Meta-fitness: 2.31e+01, Parameters: [10.0, 0.69, 0.0, 3.0]\n",
      "Meta-fitness: 8.88e+01, Parameters: [37.0, 0.41, 0.69, 3.0]\n",
      "Meta-fitness: 9.18e+01, Parameters: [15.0, 0.72, 0.67, 4.0]\n",
      "Meta-fitness: 9.44e+01, Parameters: [35.0, 0.63, 0.71, 4.0]\n",
      "Meta-fitness: 9.46e+01, Parameters: [38.0, 0.41, 0.65, 5.0]\n",
      "Meta-fitness: 1.01e+02, Parameters: [17.0, 0.85, 0.5, 4.0]\n",
      "Meta-fitness: 1.15e+02, Parameters: [64.0, 0.28, 0.63, 4.0]\n",
      "Meta-fitness: 1.22e+02, Parameters: [88.0, 0.7, 0.7, 3.0]\n",
      "Meta-fitness: 1.31e+02, Parameters: [8.0, 0.93, 0.11, 1.0]\n",
      "Meta-fitness: 1.48e+02, Parameters: [7.0, 0.78, 0.28, 3.0]\n",
      "Meta-fitness: 1.69e+02, Parameters: [196.0, 0.59, 0.96, 1.0]\n",
      "Meta-fitness: 1.89e+02, Parameters: [98.0, 0.2, 0.27, 7.0]\n",
      "Meta-fitness: 2.24e+02, Parameters: [62.0, 0.47, 0.79, 9.0]\n",
      "Meta-fitness: 2.53e+02, Parameters: [188.0, 0.21, 0.82, 2.0]\n",
      "Meta-fitness: 2.84e+02, Parameters: [193.0, 0.38, 0.78, 1.0]\n",
      "Meta-fitness: 2.86e+02, Parameters: [87.0, 0.43, 0.87, 7.0]\n",
      "Meta-fitness: 3.33e+02, Parameters: [24.0, 0.72, 0.01, 7.0]\n",
      "Meta-fitness: 4.22e+02, Parameters: [34.0, 0.9, 0.06, 4.0]\n",
      "Meta-fitness: 4.77e+02, Parameters: [183.0, 0.55, 0.17, 6.0]\n",
      "Meta-fitness: 4.84e+02, Parameters: [46.0, 0.76, 0.21, 5.0]\n",
      "Meta-fitness: 6.48e+02, Parameters: [118.0, 0.17, 0.39, 5.0]\n",
      "Meta-fitness: 6.72e+02, Parameters: [150.0, 0.11, 0.53, 2.0]\n",
      "Meta-fitness: 6.84e+02, Parameters: [156.0, 0.1, 0.55, 5.0]\n",
      "Meta-fitness: 7.66e+02, Parameters: [101.0, 0.45, 0.29, 2.0]\n",
      "Meta-fitness: 1.45e+03, Parameters: [154.0, 0.54, 0.65, 2.0]\n",
      "Meta-fitness: 1.53e+03, Parameters: [153.0, 0.41, 0.44, 4.0]\n",
      "Meta-fitness: 3.19e+03, Parameters: [145.0, 0.65, 0.22, 3.0]\n",
      "Meta-fitness: 4.64e+03, Parameters: [145.0, 0.56, 0.0, 1.0]\n",
      "Meta-fitness: 4.66e+03, Parameters: [100.0, 0.8, 0.9, 2.0]\n",
      "Meta-fitness: 4.71e+03, Parameters: [196.0, 0.22, 0.24, 9.0]\n",
      "Meta-fitness: 4.99e+03, Parameters: [135.0, 0.97, 0.35, 1.0]\n",
      "Meta-fitness: 6.31e+03, Parameters: [148.0, 0.6, 0.83, 4.0]\n",
      "Meta-fitness: 6.51e+03, Parameters: [79.0, 0.05, 0.51, 7.0]\n",
      "Meta-fitness: 1.29e+04, Parameters: [174.0, 0.61, 0.05, 2.0]\n",
      "Meta-fitness: 2.73e+04, Parameters: [194.0, 0.91, 0.69, 2.0]\n",
      "Meta-fitness: 4.07e+04, Parameters: [168.0, 0.38, 0.98, 1.0]\n",
      "Meta-fitness: 5.24e+04, Parameters: [172.0, 0.05, 0.15, 8.0]\n",
      "Meta-fitness: 6.55e+04, Parameters: [184.0, 0.18, 0.29, 9.0]\n",
      "Meta-fitness: 1.41e+05, Parameters: [75.0, 0.03, 0.81, 10.0]\n",
      "Meta-fitness: 1.69e+05, Parameters: [11.0, 0.04, 0.76, 5.0]\n",
      "Meta-fitness: 2.39e+05, Parameters: [123.0, 0.34, 0.54, 6.0]\n",
      "Meta-fitness: 4.68e+05, Parameters: [31.0, 0.98, 0.3, 7.0]\n",
      "Meta-fitness: 1.01e+06, Parameters: [182.0, 0.68, 0.93, 7.0]\n",
      "Meta-fitness: 1.54e+06, Parameters: [150.0, 0.15, 0.63, 6.0]\n",
      "Meta-fitness: 1.65e+06, Parameters: [25.0, 0.85, 0.7, 9.0]\n",
      "Meta-fitness: 2.12e+06, Parameters: [59.0, 0.94, 0.54, 9.0]\n",
      "Meta-fitness: 2.26e+06, Parameters: [191.0, 0.95, 0.46, 10.0]\n",
      "Meta-fitness: 2.32e+06, Parameters: [128.0, 0.67, 0.72, 10.0]\n",
      "Meta-fitness: 2.37e+06, Parameters: [20.0, 0.16, 0.52, 6.0]\n",
      "Meta-fitness: 2.71e+06, Parameters: [46.0, 0.24, 0.91, 6.0]\n"
     ]
    }
   ],
   "source": [
    "# Show all the parameters that were tried during meta-optimization.\n",
    "# Can you spot a trend here? Do some parameters generally work better?\n",
    "for meta_fit, params in sorted(zip(search_result.func_vals, search_result.x_iters)):\n",
    "    msg = \"Meta-fitness: {0:.2e}, Parameters: {1}\"\n",
    "    print(msg.format(meta_fit, list(np.around(params, 2))))"
   ]
  },
  {
   "cell_type": "markdown",
   "metadata": {},
   "source": [
    "### Plots\n",
    "\n",
    "We can also plot the progress of the Meta-Optimization by showing the best-found Meta-Fitness after each step."
   ]
  },
  {
   "cell_type": "code",
   "execution_count": 20,
   "metadata": {},
   "outputs": [
    {
     "data": {
      "text/plain": [
       "<matplotlib.axes._subplots.AxesSubplot at 0x7fe094d880b8>"
      ]
     },
     "execution_count": 20,
     "metadata": {},
     "output_type": "execute_result"
    },
    {
     "data": {
      "image/png": "[encoded data removed]",
      "text/plain": [
       "<Figure size 432x288 with 1 Axes>"
      ]
     },
     "metadata": {},
     "output_type": "display_data"
    }
   ],
   "source": [
    "plot_convergence(search_result)"
   ]
  },
  {
   "cell_type": "markdown",
   "metadata": {},
   "source": [
    "The following plot is more complicated and requires some explanation.\n",
    "\n",
    "The Bayesian optimizer works by building a surrogate model of the search-space and then searching this model instead of the real search-space, because it is much faster. The following plot shows the last surrogate model built by the Bayesian optimizer where yellow regions are better and blue regions are worse. The black dots show where the optimizer has sampled the search-space and the red dot shows the best parameters found.\n",
    "\n",
    "Several things should be noted here. Firstly, this surrogate model of the search-space may not be accurate. It is built from only a small number of calls to the `meta_fitness()` function. The modelled meta-fitness landscape may differ significantly from its true values especially in regions of the search-space with few samples. Secondly, the plot may change each time the meta-optimization is run because of random noise. Thirdly, each sub-plot shows the effect of changing two parameters such as `pop_size` and `CR` when averaged over all other dimensions in the search-space, this is also called a Partial Dependence plot and is a way of visualizing high-dimensional spaces in only 2-dimensions.\n",
    "\n",
    "We now make a matrix-plot of all combinations of these dimensions. \n",
    "\n",
    "The diagonal shows the influence of a single dimension on the meta-fitness. This is a so-called Partial Dependence plot for that dimension. It shows how the approximated meta-fitness value changes with different values in that dimension.\n",
    "\n",
    "The plots below the diagonal show the Partial Dependence for two dimensions. This shows how the approximated meta-fitness value changes when we are varying two dimensions simultaneously.\n",
    "\n",
    "These Partial Dependence plots are only approximations of the modelled meta-fitness function - which in turn is only an approximation of the true meta-fitness function in `meta_fitness()`. This may be a bit difficult to understand. For example, in the first diagonal plot on the top, the Partial Dependence is calculated by fixing one value for the `pop_size` and then taking a large number of random samples for the remaining dimensions in the search-space. The estimated fitness for all these points is then averaged. This process is then repeated for other values of the `pop_size` to show how it affects the meta-fitness on average. A similar procedure is done for the plots that show the Partial Dependence plots for two dimensions."
   ]
  },
  {
   "cell_type": "code",
   "execution_count": 21,
   "metadata": {},
   "outputs": [
    {
     "data": {
      "image/png": "[encoded data removed]",
      "text/plain": [
       "<Figure size 576x576 with 16 Axes>"
      ]
     },
     "metadata": {},
     "output_type": "display_data"
    }
   ],
   "source": [
    "_ = plot_objective(result=search_result, dimensions=dimension_names)"
   ]
  },
  {
   "cell_type": "markdown",
   "metadata": {},
   "source": [
    "## Conclusion\n",
    "\n",
    "We presented a method for automatically tuning the parameters of a heuristic optimizer. The method is fairly sophisticated but when combining existing Python libraries, it is very easy to implement.\n",
    "\n",
    "The method is mainly useful in two scenarios:\n",
    "\n",
    "1. If the default parameters for the heuristic optimizer do not work very well on your particular problem, and you can afford to run the optimizer many times to try different parameters. Then you can use this method to automatically find good parameters for the optimizer, as well as a better solution to the actual problem you are trying to optimize.\n",
    "\n",
    "2. If you need to run the heuristic optimizer many times on problems that are somewhat related, then you can use Meta-Optimization to find a good choice of parameters that makes the optimizer perform well on those problems."
   ]
  },
  {
   "cell_type": "markdown",
   "metadata": {},
   "source": [
    "## Exercises & Research Ideas\n",
    "\n",
    "There are plenty of opportunities for doing original research using these techniques. Here are some ideas to get you started:\n",
    "\n",
    "- Try using other benchmark problems as well as real-world problems. Record the results. Are there parameters that seem to work well for all problems?\n",
    "- Try using multiple problems inside the `meta_fitness()` function. First try and optimize each problem in turn and merely sum the results to an aggregate meta-fitness. What is the problem with that approach and can you find a better solution?\n",
    "- Try running more iterations of the meta-optimizer. Does that improve the results?\n",
    "- Use another Bayesian optimizer, see the [docs](https://scikit-optimize.github.io/#header-functions) for a list.\n",
    "- Use another acquisition function for the Bayesian optimizer.\n",
    "- Tune the parameters of another optimizer such as Particle Swarm Optimization (PSO) or Genetic Algorithm (GA).\n",
    "- Can you eliminate some of the optimizer's parameters if they are irrelevant? Can you simplify the algorithm as a result? How does it perform on a broad range of problems?"
   ]
  },
  {
   "cell_type": "markdown",
   "metadata": {},
   "source": [
    "## License (MIT)\n",
    "\n",
    "Copyright (c) 2018 by [Magnus Erik Hvass Pedersen](http://www.hvass-labs.org/)\n",
    "\n",
    "Permission is hereby granted, free of charge, to any person obtaining a copy of this software and associated documentation files (the \"Software\"), to deal in the Software without restriction, including without limitation the rights to use, copy, modify, merge, publish, distribute, sublicense, and/or sell copies of the Software, and to permit persons to whom the Software is furnished to do so, subject to the following conditions:\n",
    "\n",
    "The above copyright notice and this permission notice shall be included in all copies or substantial portions of the Software.\n",
    "\n",
    "THE SOFTWARE IS PROVIDED \"AS IS\", WITHOUT WARRANTY OF ANY KIND, EXPRESS OR IMPLIED, INCLUDING BUT NOT LIMITED TO THE WARRANTIES OF MERCHANTABILITY, FITNESS FOR A PARTICULAR PURPOSE AND NONINFRINGEMENT. IN NO EVENT SHALL THE AUTHORS OR COPYRIGHT HOLDERS BE LIABLE FOR ANY CLAIM, DAMAGES OR OTHER LIABILITY, WHETHER IN AN ACTION OF CONTRACT, TORT OR OTHERWISE, ARISING FROM, OUT OF OR IN CONNECTION WITH THE SOFTWARE OR THE USE OR OTHER DEALINGS IN THE SOFTWARE."
   ]
  }
 ],
 "metadata": {
  "kernelspec": {
   "display_name": "Python 3",
   "language": "python",
   "name": "python3"
  },
  "language_info": {
   "codemirror_mode": {
    "name": "ipython",
    "version": 3
   },
   "file_extension": ".py",
   "mimetype": "text/x-python",
   "name": "python",
   "nbconvert_exporter": "python",
   "pygments_lexer": "ipython3",
   "version": "3.6.6"
  }
 },
 "nbformat": 4,
 "nbformat_minor": 2
}
